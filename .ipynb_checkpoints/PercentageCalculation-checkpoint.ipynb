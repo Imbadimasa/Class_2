{
 "cells": [
  {
   "cell_type": "code",
   "execution_count": 25,
   "id": "f8a27d17-a789-4546-a4aa-f1afb07bca1a",
   "metadata": {},
   "outputs": [
    {
     "name": "stdout",
     "output_type": "stream",
     "text": [
      "My name is Fred, my age next year is 51, my anniversary is Saturday, October 12, 1991.\n",
      "He said his name is 'Fred'.\n"
     ]
    }
   ],
   "source": [
    "import datetime\n",
    "name = 'Fred'\n",
    "age = 50\n",
    "anniversary = datetime.date(1991, 10, 12)\n",
    "print (f'My name is {name}, my age next year is {age+1}, my anniversary is {anniversary:%A, %B %d, %Y}.')\n",
    "'My name is Fred, my age next year is 51, my anniversary is Saturday, October 12, 1991.'\n",
    "print (f'He said his name is {name!r}.')"
   ]
  },
  {
   "cell_type": "code",
   "execution_count": 24,
   "id": "c0a60131-36fd-4bba-be86-fd097ebdb8cf",
   "metadata": {},
   "outputs": [
    {
     "name": "stdin",
     "output_type": "stream",
     "text": [
      "Enter the original price 100\n",
      "Enter the current price 120\n"
     ]
    },
    {
     "name": "stdout",
     "output_type": "stream",
     "text": [
      "The original price is $100\n",
      "The current price is $120\n",
      "The percentage increase is 20.00%\n"
     ]
    }
   ],
   "source": [
    "original_price = input ('Enter the original price')\n",
    "current_price = input ('Enter the current price')\n",
    "increase = float(current_price) - float(original_price)\n",
    "percent_increase = (increase/float(original_price))*100\n",
    "precision = 4\n",
    "print (f\"The original price is ${original_price}\")\n",
    "print (f\"The current price is ${current_price}\")\n",
    "print (f'The percentage increase is {percent_increase:.2f}%')"
   ]
  },
  {
   "cell_type": "code",
   "execution_count": null,
   "id": "41d05e08-f479-4b80-a763-a41de915a536",
   "metadata": {},
   "outputs": [],
   "source": []
  }
 ],
 "metadata": {
  "kernelspec": {
   "display_name": "Python 3 (ipykernel)",
   "language": "python",
   "name": "python3"
  },
  "language_info": {
   "codemirror_mode": {
    "name": "ipython",
    "version": 3
   },
   "file_extension": ".py",
   "mimetype": "text/x-python",
   "name": "python",
   "nbconvert_exporter": "python",
   "pygments_lexer": "ipython3",
   "version": "3.9.13"
  }
 },
 "nbformat": 4,
 "nbformat_minor": 5
}
