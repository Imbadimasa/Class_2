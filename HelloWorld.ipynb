{
 "cells": [
  {
   "cell_type": "code",
   "execution_count": 1,
   "id": "d4e8812d-7473-49a3-9234-05697d933a06",
   "metadata": {},
   "outputs": [
    {
     "name": "stdout",
     "output_type": "stream",
     "text": [
      "Hello World!\n",
      "Hello World from a new cell\n"
     ]
    }
   ],
   "source": [
    "# print a statement: 'Hello World!'\n",
    "print('Hello World!')\n",
    "# print a statement: 'Hello World from a new cell'\n",
    "print('Hello World from a new cell')"
   ]
  },
  {
   "cell_type": "code",
   "execution_count": 2,
   "id": "3717ca47-a751-4dc2-993c-8dea514b2cf6",
   "metadata": {},
   "outputs": [
    {
     "name": "stdout",
     "output_type": "stream",
     "text": [
      "Hello World from a new cell\n"
     ]
    }
   ],
   "source": [
    "print('Hello World from a new cell')"
   ]
  },
  {
   "cell_type": "code",
   "execution_count": null,
   "id": "a357222f-a99b-4565-827e-be4dc0249d48",
   "metadata": {},
   "outputs": [],
   "source": []
  }
 ],
 "metadata": {
  "kernelspec": {
   "display_name": "Python 3 (ipykernel)",
   "language": "python",
   "name": "python3"
  },
  "language_info": {
   "codemirror_mode": {
    "name": "ipython",
    "version": 3
   },
   "file_extension": ".py",
   "mimetype": "text/x-python",
   "name": "python",
   "nbconvert_exporter": "python",
   "pygments_lexer": "ipython3",
   "version": "3.9.13"
  }
 },
 "nbformat": 4,
 "nbformat_minor": 5
}
